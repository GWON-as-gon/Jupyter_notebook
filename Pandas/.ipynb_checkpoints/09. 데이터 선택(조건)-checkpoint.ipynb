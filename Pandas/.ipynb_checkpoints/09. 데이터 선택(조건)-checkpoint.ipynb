{
 "cells": [
  {
   "cell_type": "markdown",
   "id": "c0aa0e0d",
   "metadata": {},
   "source": [
    "# 9. 데이터 선택 조건"
   ]
  },
  {
   "cell_type": "code",
   "execution_count": 6,
   "id": "ad43732e",
   "metadata": {},
   "outputs": [
    {
     "ename": "SyntaxError",
     "evalue": "invalid syntax (3102970722.py, line 1)",
     "output_type": "error",
     "traceback": [
      "\u001b[0;36m  File \u001b[0;32m\"/var/folders/4m/t330kbfd1t34svz502xshsk40000gn/T/ipykernel_26644/3102970722.py\"\u001b[0;36m, line \u001b[0;32m1\u001b[0m\n\u001b[0;31m    imort pandas as pd\u001b[0m\n\u001b[0m          ^\u001b[0m\n\u001b[0;31mSyntaxError\u001b[0m\u001b[0;31m:\u001b[0m invalid syntax\n"
     ]
    }
   ],
   "source": [
    "imort pandas as pd\n",
    "df = pd.read_excel('score.xlsx',index_col='지원번호')\n",
    "df"
   ]
  }
 ],
 "metadata": {
  "kernelspec": {
   "display_name": "Python 3 (ipykernel)",
   "language": "python",
   "name": "python3"
  },
  "language_info": {
   "codemirror_mode": {
    "name": "ipython",
    "version": 3
   },
   "file_extension": ".py",
   "mimetype": "text/x-python",
   "name": "python",
   "nbconvert_exporter": "python",
   "pygments_lexer": "ipython3",
   "version": "3.9.13"
  }
 },
 "nbformat": 4,
 "nbformat_minor": 5
}
