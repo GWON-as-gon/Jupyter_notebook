{
 "cells": [
  {
   "cell_type": "markdown",
   "id": "3ea66a1f",
   "metadata": {},
   "source": [
    "# Pandas\n",
    "파이썬에서 사용하는 데이터 분석 라이브러리\n",
    "데이터는 보통 2차원으로 되어있는데 쉽게 볼 수 있고, 안정적으로 저장해줌"
   ]
  },
  {
   "cell_type": "code",
   "execution_count": null,
   "id": "dc0f718e",
   "metadata": {},
   "outputs": [],
   "source": [
    "import pan"
   ]
  }
 ],
 "metadata": {
  "kernelspec": {
   "display_name": "Python 3 (ipykernel)",
   "language": "python",
   "name": "python3"
  },
  "language_info": {
   "codemirror_mode": {
    "name": "ipython",
    "version": 3
   },
   "file_extension": ".py",
   "mimetype": "text/x-python",
   "name": "python",
   "nbconvert_exporter": "python",
   "pygments_lexer": "ipython3",
   "version": "3.9.13"
  }
 },
 "nbformat": 4,
 "nbformat_minor": 5
}
