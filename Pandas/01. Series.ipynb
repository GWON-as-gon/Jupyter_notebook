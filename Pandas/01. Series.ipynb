{
 "cells": [
  {
   "cell_type": "markdown",
   "id": "a61d9be3",
   "metadata": {},
   "source": [
    "# Pandas\n",
    "파이썬에서 사용하는 데이터 분석 라이브러리  \n",
    "데이터는 보통 2차원으로 되어있는데 쉽게 볼 수 있고, 안정적으로 저장해줌"
   ]
  },
  {
   "cell_type": "code",
   "execution_count": 1,
   "id": "728595f4",
   "metadata": {},
   "outputs": [],
   "source": [
    "import pandas as pd"
   ]
  },
  {
   "cell_type": "markdown",
   "id": "579420d2",
   "metadata": {},
   "source": [
    "# 1. Series\n",
    "1차원 데이터(정수, 실수, 문자열 등)"
   ]
  },
  {
   "cell_type": "markdown",
   "id": "05f98c0b",
   "metadata": {},
   "source": [
    "## Series 객체 생성\n",
    "예) 1월부터 4월까지의 평균 데이터(-20, -10, 10, 20)"
   ]
  },
  {
   "cell_type": "code",
   "execution_count": 5,
   "id": "9f42920f",
   "metadata": {},
   "outputs": [
    {
     "data": {
      "text/plain": [
       "0   -20\n",
       "1   -10\n",
       "2    10\n",
       "3    20\n",
       "dtype: int64"
      ]
     },
     "execution_count": 5,
     "metadata": {},
     "output_type": "execute_result"
    }
   ],
   "source": [
    "temp=pd.Series([-20,-10,10,20])\n",
    "temp # 주피터 노트북은 따로 print함수를 적어주지 않아도 됨"
   ]
  },
  {
   "cell_type": "code",
   "execution_count": 7,
   "id": "a1067e0a",
   "metadata": {},
   "outputs": [
    {
     "data": {
      "text/plain": [
       "-20"
      ]
     },
     "execution_count": 7,
     "metadata": {},
     "output_type": "execute_result"
    }
   ],
   "source": [
    "temp[0] # 리스트 안에 있는 1월 온도"
   ]
  },
  {
   "cell_type": "code",
   "execution_count": 9,
   "id": "34bf7e1e",
   "metadata": {},
   "outputs": [
    {
     "data": {
      "text/plain": [
       "10"
      ]
     },
     "execution_count": 9,
     "metadata": {},
     "output_type": "execute_result"
    }
   ],
   "source": [
    "temp[2] # 3월 온도"
   ]
  },
  {
   "cell_type": "markdown",
   "id": "03f7f845",
   "metadata": {},
   "source": [
    "# Series 객체 생성(Index 지정)"
   ]
  },
  {
   "cell_type": "code",
   "execution_count": 12,
   "id": "8323ea35",
   "metadata": {},
   "outputs": [
    {
     "data": {
      "text/plain": [
       "Jan   -20\n",
       "Feb   -10\n",
       "Mar    10\n",
       "Apr    20\n",
       "dtype: int64"
      ]
     },
     "execution_count": 12,
     "metadata": {},
     "output_type": "execute_result"
    }
   ],
   "source": [
    "temp=pd.Series([-20,-10,10,20], index=['Jan','Feb','Mar','Apr'])\n",
    "temp # index에 명시한 순서대로 데이터를 넣어 접근함"
   ]
  },
  {
   "cell_type": "code",
   "execution_count": 16,
   "id": "a39b5990",
   "metadata": {},
   "outputs": [
    {
     "data": {
      "text/plain": [
       "-10"
      ]
     },
     "execution_count": 16,
     "metadata": {},
     "output_type": "execute_result"
    }
   ],
   "source": [
    "temp['Feb'] #temp[0], 물론 index 명이 아닌 위치로 적어도 값은 출력됨 "
   ]
  },
  {
   "cell_type": "code",
   "execution_count": 19,
   "id": "1dc21a47",
   "metadata": {},
   "outputs": [
    {
     "data": {
      "text/plain": [
       "-20"
      ]
     },
     "execution_count": 19,
     "metadata": {},
     "output_type": "execute_result"
    }
   ],
   "source": [
    "temp['Jan'] # index Jan(1월)에 해당하는 데이터 출력"
   ]
  },
  {
   "cell_type": "code",
   "execution_count": 18,
   "id": "3c6246e0",
   "metadata": {},
   "outputs": [],
   "source": [
    "#temp['Jun'] # 존재하지 않는 index 접근 시도 시 에러"
   ]
  }
 ],
 "metadata": {
  "kernelspec": {
   "display_name": "Python 3 (ipykernel)",
   "language": "python",
   "name": "python3"
  },
  "language_info": {
   "codemirror_mode": {
    "name": "ipython",
    "version": 3
   },
   "file_extension": ".py",
   "mimetype": "text/x-python",
   "name": "python",
   "nbconvert_exporter": "python",
   "pygments_lexer": "ipython3",
   "version": "3.9.13"
  }
 },
 "nbformat": 4,
 "nbformat_minor": 5
}
